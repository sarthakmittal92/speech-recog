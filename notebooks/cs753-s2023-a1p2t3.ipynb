{
  "cells": [
    {
      "cell_type": "code",
      "execution_count": null,
      "metadata": {
        "id": "Qm8JHmeMkcfy"
      },
      "outputs": [],
      "source": [
        "# Original\n",
        "# https://colab.research.google.com/drive/1qFt8qxKtM05hRuRxsA1Lq4JtP7tstcgc"
      ]
    },
    {
      "cell_type": "code",
      "execution_count": null,
      "metadata": {
        "id": "JibHeSHKlueK"
      },
      "outputs": [],
      "source": [
        "%matplotlib inline"
      ]
    },
    {
      "cell_type": "code",
      "execution_count": null,
      "metadata": {
        "id": "f31ZpwzCY-dz"
      },
      "outputs": [],
      "source": [
        "%%capture\n",
        "# !pip install torch==1.7.0+cu101 torchaudio==0.7.0 -f https://download.pytorch.org/whl/torch_stable.html\n",
        "\n",
        "from IPython.display import Audio\n",
        "\n",
        "## PyTorch things\n",
        "import torch\n",
        "import torchaudio\n",
        "import torch.nn.functional as F\n",
        "\n",
        "## Other libs\n",
        "from urllib.request import urlopen\n",
        "import matplotlib.pyplot as plt\n",
        "import glob\n",
        "import os\n",
        "import random\n",
        "from tqdm.notebook import tqdm\n",
        "import torchsummary\n",
        "import numpy as np\n",
        "from sklearn.metrics import confusion_matrix\n",
        "from sklearn.preprocessing import normalize\n",
        "import pandas as pd\n",
        "import seaborn as sn"
      ]
    },
    {
      "cell_type": "code",
      "execution_count": null,
      "metadata": {
        "id": "cAIM6vNoltNP"
      },
      "outputs": [],
      "source": [
        "# basic random seed\n",
        "import os\n",
        "import random\n",
        "import numpy as np\n",
        "\n",
        "DEFAULT_RANDOM_SEED = 2021\n",
        "\n",
        "def seedBasic(seed=DEFAULT_RANDOM_SEED):\n",
        "    random.seed(seed)\n",
        "    os.environ['PYTHONHASHSEED'] = str(seed)\n",
        "    np.random.seed(seed)\n",
        "\n",
        "# tensorflow random seed\n",
        "import tensorflow as tf\n",
        "\n",
        "def seedTF(seed=DEFAULT_RANDOM_SEED):\n",
        "    tf.random.set_seed(seed)\n",
        "\n",
        "# torch random seed\n",
        "\n",
        "def seedTorch(seed=DEFAULT_RANDOM_SEED):\n",
        "    torch.manual_seed(seed)\n",
        "    torch.cuda.manual_seed(seed)\n",
        "    torch.backends.cudnn.deterministic = True\n",
        "    torch.backends.cudnn.benchmark = False\n",
        "\n",
        "# basic + tensorflow + torch\n",
        "def seedEverything(seed=DEFAULT_RANDOM_SEED):\n",
        "    seedBasic(seed)\n",
        "    seedTF(seed)\n",
        "    seedTorch(seed)\n",
        "\n",
        "seedEverything(1004)"
      ]
    },
    {
      "cell_type": "code",
      "source": [
        "device = torch.device(\"cuda\" if torch.cuda.is_available() else \"cpu\")"
      ],
      "metadata": {
        "id": "oGaIX9p7Grsr"
      },
      "execution_count": null,
      "outputs": []
    },
    {
      "cell_type": "code",
      "execution_count": null,
      "metadata": {
        "id": "S1nRgZsWYbxc"
      },
      "outputs": [],
      "source": [
        "from torchaudio.datasets import SPEECHCOMMANDS\n",
        "import os\n",
        "\n",
        "import pickle\n",
        "# with open('/content/blind_test.pkl', 'rb') as f:\n",
        "#   blind = pickle.load(f)\n",
        "# blind_set = [test_set[i] for i in blind]\n",
        "# test_set = blind_set\n",
        "\n",
        "class SubsetSC(SPEECHCOMMANDS):\n",
        "    def __init__(self, subset: str = None):\n",
        "        super().__init__(\"./\", download=True)\n",
        "\n",
        "        def load_list(filename):\n",
        "            filepath = os.path.join(self._path, filename)\n",
        "            with open(filepath) as fileobj:\n",
        "                return sorted([os.path.normpath(os.path.join(self._path, line.strip())) for line in fileobj])\n",
        "\n",
        "        if subset == \"testing\":\n",
        "            self._walker = load_list(\"testing_list.txt\")\n",
        "            # test_list = [int(line) for line in urlopen('https://www.cse.iitb.ac.in/~pjyothi/cs753/test_list.txt')]\n",
        "            with open('/content/blind_test.pkl', 'rb') as f:\n",
        "              blind = pickle.load(f)\n",
        "            self._walker = ['./' + self._walker[i] for i in blind]\n",
        "        elif subset == \"training\":\n",
        "            excludes = load_list(\"validation_list.txt\") + load_list(\"testing_list.txt\")\n",
        "            excludes = set(excludes)\n",
        "            self._walker = [w for w in self._walker if w[2:] not in excludes]\n",
        "            train_list = [int(line) for line in urlopen('https://www.cse.iitb.ac.in/~pjyothi/cs753/train_list.txt')]\n",
        "            self._walker = [self._walker[i] for i in train_list]\n",
        "\n",
        "# Create training and testing split of the data. We do not use validation in this tutorial.\n",
        "train_set = SubsetSC(\"training\")\n",
        "test_set = SubsetSC(\"testing\")"
      ]
    },
    {
      "cell_type": "code",
      "execution_count": null,
      "metadata": {
        "id": "ApUAlwnp2WWI"
      },
      "outputs": [],
      "source": [
        "classes = sorted(os.listdir('./SpeechCommands/speech_commands_v0.02'))\n",
        "classes.remove(\"LICENSE\")\n",
        "classes.remove(\"README.md\")\n",
        "classes.remove(\"_background_noise_\")\n",
        "classes.remove(\"testing_list.txt\")\n",
        "classes.remove(\"validation_list.txt\")\n",
        "classes.remove('.DS_Store')"
      ]
    },
    {
      "cell_type": "code",
      "execution_count": null,
      "metadata": {
        "id": "wpJPsMHu1uDY",
        "colab": {
          "base_uri": "https://localhost:8080/"
        },
        "outputId": "4ed6554a-9927-4aea-f1e3-664780985873"
      },
      "outputs": [
        {
          "output_type": "stream",
          "name": "stdout",
          "text": [
            "torch.Size([1, 12, 81])\n"
          ]
        },
        {
          "output_type": "stream",
          "name": "stderr",
          "text": [
            "/usr/local/lib/python3.9/dist-packages/torchaudio/functional/functional.py:571: UserWarning: At least one mel filterbank has all zero values. The value for `n_mels` (128) may be set too high. Or, the value for `n_freqs` (201) may be set too low.\n",
            "  warnings.warn(\n"
          ]
        }
      ],
      "source": [
        "waveform, sample_rate, label, speaker_id, utterance_number = train_set[0]\n",
        "# labels = sorted(list(set(datapoint[2] for datapoint in train_set)))\n",
        "mfcc = torchaudio.transforms.MFCC(n_mfcc=12, log_mels=True)(waveform)\n",
        "print(mfcc.shape)"
      ]
    },
    {
      "cell_type": "code",
      "execution_count": null,
      "metadata": {
        "id": "16BFbZcPmEUo"
      },
      "outputs": [],
      "source": [
        "class SpeechDataset(torch.utils.data.Dataset):\n",
        "  \n",
        "  def __init__(self, classes, file_list):\n",
        "    \n",
        "    self.classes = classes\n",
        "    \n",
        "    # create a map from class name to integer\n",
        "    self.class_to_int = dict(zip(classes, range(len(classes))))\n",
        "    \n",
        "    # store the file names\n",
        "    self.samples = file_list\n",
        "    \n",
        "    # store our MFCC transform\n",
        "    self.mfcc_transform = torchaudio.transforms.MFCC(n_mfcc=12, log_mels=True)\n",
        "    \n",
        "  def __len__(self):\n",
        "    return len(self.samples)\n",
        "    \n",
        "  def __getitem__(self,i):\n",
        "    with torch.no_grad():\n",
        "      # load a normalized waveform\n",
        "      waveform, sample_rate, label, speaker_id, utterance_number = self.samples[i]\n",
        "      \n",
        "      # if the waveform is too short (less than 1 second) we pad it with zeroes\n",
        "      if waveform.shape[1] < 16000:\n",
        "        waveform = F.pad(input=waveform, pad=(0, 16000 - waveform.shape[1]), mode='constant', value=0)\n",
        "      \n",
        "      # then, we apply the transform\n",
        "      mfcc = self.mfcc_transform(waveform).squeeze(0).transpose(0,1)\n",
        "    \n",
        "    # return the mfcc coefficient with the sample label\n",
        "    return mfcc, self.class_to_int[label]"
      ]
    },
    {
      "cell_type": "code",
      "execution_count": null,
      "metadata": {
        "id": "f6daZ3fGqAPH"
      },
      "outputs": [],
      "source": [
        "if device == \"cuda\":\n",
        "    num_workers = 1\n",
        "    pin_memory = True\n",
        "else:\n",
        "    num_workers = 0\n",
        "    pin_memory = False\n",
        "\n",
        "batch_size = 256\n",
        "train_dataset = SpeechDataset(classes,train_set)\n",
        "train_dl = torch.utils.data.DataLoader(\n",
        "    train_dataset,\n",
        "    batch_size=batch_size,\n",
        "    shuffle=True,\n",
        "    num_workers=num_workers\n",
        ")\n",
        "\n",
        "test_dataset = SpeechDataset(classes,test_set)\n",
        "test_dl = torch.utils.data.DataLoader(\n",
        "    test_dataset,\n",
        "    batch_size=batch_size,\n",
        "    shuffle=True,\n",
        "    num_workers=num_workers\n",
        ")"
      ]
    },
    {
      "cell_type": "code",
      "execution_count": null,
      "metadata": {
        "id": "b4fzpQlXvlPG"
      },
      "outputs": [],
      "source": [
        "class SpeechLSTM(torch.nn.Module):\n",
        "  \n",
        "  def __init__(self):\n",
        "    super(SpeechLSTM, self).__init__()\n",
        "    \n",
        "    self.lstm = torch.nn.LSTM(\n",
        "        input_size=12, num_layers=2, hidden_size=350, batch_first=True, dropout=0.2\n",
        "    )\n",
        "    \n",
        "    self.out_layer = torch.nn.Linear(350,35)\n",
        "    \n",
        "  def forward(self, x):\n",
        "    \n",
        "    out, _ = self.lstm(x)\n",
        "    \n",
        "    x = self.out_layer(out[:,-1,:])\n",
        "    \n",
        "    return F.log_softmax(x, dim=1)"
      ]
    },
    {
      "cell_type": "code",
      "source": [
        "def train(model, epoch, log_interval):\n",
        "    model.train()\n",
        "    for batch_idx, (data, target) in enumerate(train_dl):\n",
        "\n",
        "        model.zero_grad()\n",
        "\n",
        "        data = data.to(device)\n",
        "        target = target.to(device)\n",
        "        # print(data.shape)\n",
        "\n",
        "        output = model(data)\n",
        "        # print(output.argmax(dim=-1))\n",
        "        # print(target)\n",
        "\n",
        "        # negative log-likelihood for a tensor of size (batch x 1 x n_output)\n",
        "        loss = F.nll_loss(output, target)\n",
        "\n",
        "        optimizer.zero_grad()\n",
        "        loss.backward()\n",
        "        optimizer.step()\n",
        "\n",
        "        # print training stats\n",
        "        if batch_idx % log_interval == 0:\n",
        "            print(f\"Train Epoch: {epoch} [{batch_idx * len(data)}/{len(train_dl.dataset)} ({100. * batch_idx / len(train_dl):.2f}%)]\\tLoss: {loss.item():.6f}\")\n",
        "\n",
        "        # update progress bar\n",
        "        pbar.update(pbar_update)\n",
        "        # record loss\n",
        "        losses.append(loss.item())"
      ],
      "metadata": {
        "id": "1zSQn6pvGgm0"
      },
      "execution_count": null,
      "outputs": []
    },
    {
      "cell_type": "code",
      "source": [
        "def number_of_correct(pred, target):\n",
        "    # count number of correct predictions\n",
        "    return pred.squeeze().eq(target).sum().item()\n",
        "\n",
        "def get_likely_index(tensor):\n",
        "    # find most likely label index for each element in the batch\n",
        "    return tensor.argmax(dim=-1)\n",
        "\n",
        "def test(model, epoch):\n",
        "    model.eval()\n",
        "    correct = 0\n",
        "    for data, target in test_dl:\n",
        "\n",
        "        data = data.to(device)\n",
        "        target = target.to(device)\n",
        "\n",
        "        output = model(data)\n",
        "\n",
        "        pred = get_likely_index(output)\n",
        "        correct += number_of_correct(pred, target)\n",
        "\n",
        "        # update progress bar\n",
        "        pbar.update(pbar_update)\n",
        "\n",
        "    print(f\"\\nTest Epoch: {epoch}\\tAccuracy: {correct}/{len(test_dl.dataset)} ({100. * correct / len(test_dl.dataset):.2f}%)\\n\")"
      ],
      "metadata": {
        "id": "vQPsO14zGxy-"
      },
      "execution_count": null,
      "outputs": []
    },
    {
      "cell_type": "code",
      "source": [
        "model = SpeechLSTM()\n",
        "model.to(device)\n",
        "\n",
        "optimizer = torch.optim.Adam(model.parameters(), lr=0.001, weight_decay=0.0001)\n",
        "scheduler = torch.optim.lr_scheduler.StepLR(optimizer, step_size=5, gamma=0.5)"
      ],
      "metadata": {
        "id": "z9QekuaucEXV"
      },
      "execution_count": null,
      "outputs": []
    },
    {
      "cell_type": "code",
      "source": [
        "log_interval = 20\n",
        "n_epoch = 20\n",
        "\n",
        "pbar_update = 1 / (len(train_dl) + len(test_dl))\n",
        "losses = []\n",
        "\n",
        "with tqdm(total=n_epoch) as pbar:\n",
        "    for epoch in range(1, n_epoch + 1):\n",
        "        train(model, epoch, log_interval)\n",
        "        test(model, epoch)\n",
        "        scheduler.step()"
      ],
      "metadata": {
        "id": "Fmr-qJqcG24Y",
        "colab": {
          "base_uri": "https://localhost:8080/",
          "height": 1000,
          "referenced_widgets": [
            "c7bbef2fa7b54d79bd7626c9aa1c1758",
            "01b9891c63474216b05606be8d5b0a78",
            "68bfdb761b2e4b85ba78cf03bcc26aae",
            "6a1b1c3763d44aa59abf575814bb65b7",
            "315c66f83434437bb4dd757e85917689",
            "f0d3e19cf452456b91bc7f3cf8d5e451",
            "63b522c094c74b1cab4ea89dd7f072cc",
            "b9dc221d73394f559aec3ec9329ab6fc",
            "bea458f2e5a34134b795701751c09e9c",
            "b1bb2140c45b44af9d850c6d8ee7facf",
            "4a82942c0e954f2eb04cf21531c0890a"
          ]
        },
        "outputId": "a473f126-e3c6-4790-a8a5-1caa55b7a5aa"
      },
      "execution_count": null,
      "outputs": [
        {
          "output_type": "display_data",
          "data": {
            "text/plain": [
              "  0%|          | 0/20 [00:00<?, ?it/s]"
            ],
            "application/vnd.jupyter.widget-view+json": {
              "version_major": 2,
              "version_minor": 0,
              "model_id": "c7bbef2fa7b54d79bd7626c9aa1c1758"
            }
          },
          "metadata": {}
        },
        {
          "output_type": "stream",
          "name": "stdout",
          "text": [
            "Train Epoch: 1 [0/12000 (0.00%)]\tLoss: 3.541649\n",
            "Train Epoch: 1 [5120/12000 (42.55%)]\tLoss: 3.039635\n",
            "Train Epoch: 1 [10240/12000 (85.11%)]\tLoss: 2.671168\n",
            "\n",
            "Test Epoch: 1\tAccuracy: 598/3000 (19.93%)\n",
            "\n",
            "Train Epoch: 2 [0/12000 (0.00%)]\tLoss: 2.520160\n",
            "Train Epoch: 2 [5120/12000 (42.55%)]\tLoss: 2.158163\n",
            "Train Epoch: 2 [10240/12000 (85.11%)]\tLoss: 1.892681\n",
            "\n",
            "Test Epoch: 2\tAccuracy: 1148/3000 (38.27%)\n",
            "\n",
            "Train Epoch: 3 [0/12000 (0.00%)]\tLoss: 1.635767\n",
            "Train Epoch: 3 [5120/12000 (42.55%)]\tLoss: 1.320776\n",
            "Train Epoch: 3 [10240/12000 (85.11%)]\tLoss: 1.300836\n",
            "\n",
            "Test Epoch: 3\tAccuracy: 1598/3000 (53.27%)\n",
            "\n",
            "Train Epoch: 4 [0/12000 (0.00%)]\tLoss: 1.097391\n",
            "Train Epoch: 4 [5120/12000 (42.55%)]\tLoss: 0.933040\n",
            "Train Epoch: 4 [10240/12000 (85.11%)]\tLoss: 1.170582\n",
            "\n",
            "Test Epoch: 4\tAccuracy: 1730/3000 (57.67%)\n",
            "\n",
            "Train Epoch: 5 [0/12000 (0.00%)]\tLoss: 0.930370\n",
            "Train Epoch: 5 [5120/12000 (42.55%)]\tLoss: 0.632796\n",
            "Train Epoch: 5 [10240/12000 (85.11%)]\tLoss: 0.712548\n",
            "\n",
            "Test Epoch: 5\tAccuracy: 1817/3000 (60.57%)\n",
            "\n",
            "Train Epoch: 6 [0/12000 (0.00%)]\tLoss: 0.862077\n",
            "Train Epoch: 6 [5120/12000 (42.55%)]\tLoss: 0.604102\n",
            "Train Epoch: 6 [10240/12000 (85.11%)]\tLoss: 0.756226\n",
            "\n",
            "Test Epoch: 6\tAccuracy: 1939/3000 (64.63%)\n",
            "\n",
            "Train Epoch: 7 [0/12000 (0.00%)]\tLoss: 0.614299\n",
            "Train Epoch: 7 [5120/12000 (42.55%)]\tLoss: 0.618425\n",
            "Train Epoch: 7 [10240/12000 (85.11%)]\tLoss: 0.605194\n",
            "\n",
            "Test Epoch: 7\tAccuracy: 1986/3000 (66.20%)\n",
            "\n",
            "Train Epoch: 8 [0/12000 (0.00%)]\tLoss: 0.394536\n",
            "Train Epoch: 8 [5120/12000 (42.55%)]\tLoss: 0.450318\n",
            "Train Epoch: 8 [10240/12000 (85.11%)]\tLoss: 0.370915\n",
            "\n",
            "Test Epoch: 8\tAccuracy: 2008/3000 (66.93%)\n",
            "\n",
            "Train Epoch: 9 [0/12000 (0.00%)]\tLoss: 0.453922\n",
            "Train Epoch: 9 [5120/12000 (42.55%)]\tLoss: 0.498446\n",
            "Train Epoch: 9 [10240/12000 (85.11%)]\tLoss: 0.521013\n",
            "\n",
            "Test Epoch: 9\tAccuracy: 2000/3000 (66.67%)\n",
            "\n",
            "Train Epoch: 10 [0/12000 (0.00%)]\tLoss: 0.305798\n",
            "Train Epoch: 10 [5120/12000 (42.55%)]\tLoss: 0.329763\n",
            "Train Epoch: 10 [10240/12000 (85.11%)]\tLoss: 0.444874\n",
            "\n",
            "Test Epoch: 10\tAccuracy: 2016/3000 (67.20%)\n",
            "\n",
            "Train Epoch: 11 [0/12000 (0.00%)]\tLoss: 0.367033\n",
            "Train Epoch: 11 [5120/12000 (42.55%)]\tLoss: 0.344787\n",
            "Train Epoch: 11 [10240/12000 (85.11%)]\tLoss: 0.342734\n",
            "\n",
            "Test Epoch: 11\tAccuracy: 2069/3000 (68.97%)\n",
            "\n",
            "Train Epoch: 12 [0/12000 (0.00%)]\tLoss: 0.255014\n",
            "Train Epoch: 12 [5120/12000 (42.55%)]\tLoss: 0.265371\n",
            "Train Epoch: 12 [10240/12000 (85.11%)]\tLoss: 0.243556\n",
            "\n",
            "Test Epoch: 12\tAccuracy: 2068/3000 (68.93%)\n",
            "\n",
            "Train Epoch: 13 [0/12000 (0.00%)]\tLoss: 0.263732\n",
            "Train Epoch: 13 [5120/12000 (42.55%)]\tLoss: 0.289692\n",
            "Train Epoch: 13 [10240/12000 (85.11%)]\tLoss: 0.307894\n",
            "\n",
            "Test Epoch: 13\tAccuracy: 2088/3000 (69.60%)\n",
            "\n",
            "Train Epoch: 14 [0/12000 (0.00%)]\tLoss: 0.227417\n",
            "Train Epoch: 14 [5120/12000 (42.55%)]\tLoss: 0.163137\n",
            "Train Epoch: 14 [10240/12000 (85.11%)]\tLoss: 0.256027\n",
            "\n",
            "Test Epoch: 14\tAccuracy: 2085/3000 (69.50%)\n",
            "\n",
            "Train Epoch: 15 [0/12000 (0.00%)]\tLoss: 0.260775\n",
            "Train Epoch: 15 [5120/12000 (42.55%)]\tLoss: 0.203659\n",
            "Train Epoch: 15 [10240/12000 (85.11%)]\tLoss: 0.199093\n",
            "\n",
            "Test Epoch: 15\tAccuracy: 2086/3000 (69.53%)\n",
            "\n",
            "Train Epoch: 16 [0/12000 (0.00%)]\tLoss: 0.214684\n",
            "Train Epoch: 16 [5120/12000 (42.55%)]\tLoss: 0.162624\n",
            "Train Epoch: 16 [10240/12000 (85.11%)]\tLoss: 0.167559\n",
            "\n",
            "Test Epoch: 16\tAccuracy: 2097/3000 (69.90%)\n",
            "\n",
            "Train Epoch: 17 [0/12000 (0.00%)]\tLoss: 0.128892\n",
            "Train Epoch: 17 [5120/12000 (42.55%)]\tLoss: 0.152227\n",
            "Train Epoch: 17 [10240/12000 (85.11%)]\tLoss: 0.139817\n",
            "\n",
            "Test Epoch: 17\tAccuracy: 2095/3000 (69.83%)\n",
            "\n",
            "Train Epoch: 18 [0/12000 (0.00%)]\tLoss: 0.165587\n",
            "Train Epoch: 18 [5120/12000 (42.55%)]\tLoss: 0.119882\n",
            "Train Epoch: 18 [10240/12000 (85.11%)]\tLoss: 0.172068\n",
            "\n",
            "Test Epoch: 18\tAccuracy: 2101/3000 (70.03%)\n",
            "\n",
            "Train Epoch: 19 [0/12000 (0.00%)]\tLoss: 0.216003\n",
            "Train Epoch: 19 [5120/12000 (42.55%)]\tLoss: 0.098845\n",
            "Train Epoch: 19 [10240/12000 (85.11%)]\tLoss: 0.174739\n",
            "\n",
            "Test Epoch: 19\tAccuracy: 2102/3000 (70.07%)\n",
            "\n",
            "Train Epoch: 20 [0/12000 (0.00%)]\tLoss: 0.127983\n",
            "Train Epoch: 20 [5120/12000 (42.55%)]\tLoss: 0.140818\n",
            "Train Epoch: 20 [10240/12000 (85.11%)]\tLoss: 0.170857\n",
            "\n",
            "Test Epoch: 20\tAccuracy: 2106/3000 (70.20%)\n",
            "\n"
          ]
        }
      ]
    },
    {
      "cell_type": "code",
      "source": [
        "model.eval()\n",
        "correct = 0\n",
        "for data, target in test_dl:\n",
        "\n",
        "    data = data.to(device)\n",
        "    target = target.to(device)\n",
        "\n",
        "    output = model(data)\n",
        "\n",
        "    pred = get_likely_index(output)\n",
        "    correct += number_of_correct(pred, target)\n",
        "\n",
        "    # update progress bar\n",
        "    pbar.update(pbar_update)\n",
        "\n",
        "print(f\"{100. * correct / len(test_dl.dataset):.2f}\")"
      ],
      "metadata": {
        "id": "pn6vnX82H9d_",
        "colab": {
          "base_uri": "https://localhost:8080/"
        },
        "outputId": "2cf25ace-f307-4334-c996-9c4f4b93a235"
      },
      "execution_count": null,
      "outputs": [
        {
          "output_type": "stream",
          "name": "stdout",
          "text": [
            "70.20\n"
          ]
        }
      ]
    },
    {
      "cell_type": "code",
      "source": [],
      "metadata": {
        "id": "v8Zpkl-_jUkz"
      },
      "execution_count": null,
      "outputs": []
    }
  ],
  "metadata": {
    "accelerator": "GPU",
    "colab": {
      "provenance": []
    },
    "kernelspec": {
      "display_name": "Python 3",
      "name": "python3"
    },
    "widgets": {
      "application/vnd.jupyter.widget-state+json": {
        "c7bbef2fa7b54d79bd7626c9aa1c1758": {
          "model_module": "@jupyter-widgets/controls",
          "model_name": "HBoxModel",
          "model_module_version": "1.5.0",
          "state": {
            "_dom_classes": [],
            "_model_module": "@jupyter-widgets/controls",
            "_model_module_version": "1.5.0",
            "_model_name": "HBoxModel",
            "_view_count": null,
            "_view_module": "@jupyter-widgets/controls",
            "_view_module_version": "1.5.0",
            "_view_name": "HBoxView",
            "box_style": "",
            "children": [
              "IPY_MODEL_01b9891c63474216b05606be8d5b0a78",
              "IPY_MODEL_68bfdb761b2e4b85ba78cf03bcc26aae",
              "IPY_MODEL_6a1b1c3763d44aa59abf575814bb65b7"
            ],
            "layout": "IPY_MODEL_315c66f83434437bb4dd757e85917689"
          }
        },
        "01b9891c63474216b05606be8d5b0a78": {
          "model_module": "@jupyter-widgets/controls",
          "model_name": "HTMLModel",
          "model_module_version": "1.5.0",
          "state": {
            "_dom_classes": [],
            "_model_module": "@jupyter-widgets/controls",
            "_model_module_version": "1.5.0",
            "_model_name": "HTMLModel",
            "_view_count": null,
            "_view_module": "@jupyter-widgets/controls",
            "_view_module_version": "1.5.0",
            "_view_name": "HTMLView",
            "description": "",
            "description_tooltip": null,
            "layout": "IPY_MODEL_f0d3e19cf452456b91bc7f3cf8d5e451",
            "placeholder": "​",
            "style": "IPY_MODEL_63b522c094c74b1cab4ea89dd7f072cc",
            "value": "100%"
          }
        },
        "68bfdb761b2e4b85ba78cf03bcc26aae": {
          "model_module": "@jupyter-widgets/controls",
          "model_name": "FloatProgressModel",
          "model_module_version": "1.5.0",
          "state": {
            "_dom_classes": [],
            "_model_module": "@jupyter-widgets/controls",
            "_model_module_version": "1.5.0",
            "_model_name": "FloatProgressModel",
            "_view_count": null,
            "_view_module": "@jupyter-widgets/controls",
            "_view_module_version": "1.5.0",
            "_view_name": "ProgressView",
            "bar_style": "success",
            "description": "",
            "description_tooltip": null,
            "layout": "IPY_MODEL_b9dc221d73394f559aec3ec9329ab6fc",
            "max": 20,
            "min": 0,
            "orientation": "horizontal",
            "style": "IPY_MODEL_bea458f2e5a34134b795701751c09e9c",
            "value": 20
          }
        },
        "6a1b1c3763d44aa59abf575814bb65b7": {
          "model_module": "@jupyter-widgets/controls",
          "model_name": "HTMLModel",
          "model_module_version": "1.5.0",
          "state": {
            "_dom_classes": [],
            "_model_module": "@jupyter-widgets/controls",
            "_model_module_version": "1.5.0",
            "_model_name": "HTMLModel",
            "_view_count": null,
            "_view_module": "@jupyter-widgets/controls",
            "_view_module_version": "1.5.0",
            "_view_name": "HTMLView",
            "description": "",
            "description_tooltip": null,
            "layout": "IPY_MODEL_b1bb2140c45b44af9d850c6d8ee7facf",
            "placeholder": "​",
            "style": "IPY_MODEL_4a82942c0e954f2eb04cf21531c0890a",
            "value": " 20.000000000000576/20 [05:22&lt;00:00, 12.27s/it]"
          }
        },
        "315c66f83434437bb4dd757e85917689": {
          "model_module": "@jupyter-widgets/base",
          "model_name": "LayoutModel",
          "model_module_version": "1.2.0",
          "state": {
            "_model_module": "@jupyter-widgets/base",
            "_model_module_version": "1.2.0",
            "_model_name": "LayoutModel",
            "_view_count": null,
            "_view_module": "@jupyter-widgets/base",
            "_view_module_version": "1.2.0",
            "_view_name": "LayoutView",
            "align_content": null,
            "align_items": null,
            "align_self": null,
            "border": null,
            "bottom": null,
            "display": null,
            "flex": null,
            "flex_flow": null,
            "grid_area": null,
            "grid_auto_columns": null,
            "grid_auto_flow": null,
            "grid_auto_rows": null,
            "grid_column": null,
            "grid_gap": null,
            "grid_row": null,
            "grid_template_areas": null,
            "grid_template_columns": null,
            "grid_template_rows": null,
            "height": null,
            "justify_content": null,
            "justify_items": null,
            "left": null,
            "margin": null,
            "max_height": null,
            "max_width": null,
            "min_height": null,
            "min_width": null,
            "object_fit": null,
            "object_position": null,
            "order": null,
            "overflow": null,
            "overflow_x": null,
            "overflow_y": null,
            "padding": null,
            "right": null,
            "top": null,
            "visibility": null,
            "width": null
          }
        },
        "f0d3e19cf452456b91bc7f3cf8d5e451": {
          "model_module": "@jupyter-widgets/base",
          "model_name": "LayoutModel",
          "model_module_version": "1.2.0",
          "state": {
            "_model_module": "@jupyter-widgets/base",
            "_model_module_version": "1.2.0",
            "_model_name": "LayoutModel",
            "_view_count": null,
            "_view_module": "@jupyter-widgets/base",
            "_view_module_version": "1.2.0",
            "_view_name": "LayoutView",
            "align_content": null,
            "align_items": null,
            "align_self": null,
            "border": null,
            "bottom": null,
            "display": null,
            "flex": null,
            "flex_flow": null,
            "grid_area": null,
            "grid_auto_columns": null,
            "grid_auto_flow": null,
            "grid_auto_rows": null,
            "grid_column": null,
            "grid_gap": null,
            "grid_row": null,
            "grid_template_areas": null,
            "grid_template_columns": null,
            "grid_template_rows": null,
            "height": null,
            "justify_content": null,
            "justify_items": null,
            "left": null,
            "margin": null,
            "max_height": null,
            "max_width": null,
            "min_height": null,
            "min_width": null,
            "object_fit": null,
            "object_position": null,
            "order": null,
            "overflow": null,
            "overflow_x": null,
            "overflow_y": null,
            "padding": null,
            "right": null,
            "top": null,
            "visibility": null,
            "width": null
          }
        },
        "63b522c094c74b1cab4ea89dd7f072cc": {
          "model_module": "@jupyter-widgets/controls",
          "model_name": "DescriptionStyleModel",
          "model_module_version": "1.5.0",
          "state": {
            "_model_module": "@jupyter-widgets/controls",
            "_model_module_version": "1.5.0",
            "_model_name": "DescriptionStyleModel",
            "_view_count": null,
            "_view_module": "@jupyter-widgets/base",
            "_view_module_version": "1.2.0",
            "_view_name": "StyleView",
            "description_width": ""
          }
        },
        "b9dc221d73394f559aec3ec9329ab6fc": {
          "model_module": "@jupyter-widgets/base",
          "model_name": "LayoutModel",
          "model_module_version": "1.2.0",
          "state": {
            "_model_module": "@jupyter-widgets/base",
            "_model_module_version": "1.2.0",
            "_model_name": "LayoutModel",
            "_view_count": null,
            "_view_module": "@jupyter-widgets/base",
            "_view_module_version": "1.2.0",
            "_view_name": "LayoutView",
            "align_content": null,
            "align_items": null,
            "align_self": null,
            "border": null,
            "bottom": null,
            "display": null,
            "flex": null,
            "flex_flow": null,
            "grid_area": null,
            "grid_auto_columns": null,
            "grid_auto_flow": null,
            "grid_auto_rows": null,
            "grid_column": null,
            "grid_gap": null,
            "grid_row": null,
            "grid_template_areas": null,
            "grid_template_columns": null,
            "grid_template_rows": null,
            "height": null,
            "justify_content": null,
            "justify_items": null,
            "left": null,
            "margin": null,
            "max_height": null,
            "max_width": null,
            "min_height": null,
            "min_width": null,
            "object_fit": null,
            "object_position": null,
            "order": null,
            "overflow": null,
            "overflow_x": null,
            "overflow_y": null,
            "padding": null,
            "right": null,
            "top": null,
            "visibility": null,
            "width": null
          }
        },
        "bea458f2e5a34134b795701751c09e9c": {
          "model_module": "@jupyter-widgets/controls",
          "model_name": "ProgressStyleModel",
          "model_module_version": "1.5.0",
          "state": {
            "_model_module": "@jupyter-widgets/controls",
            "_model_module_version": "1.5.0",
            "_model_name": "ProgressStyleModel",
            "_view_count": null,
            "_view_module": "@jupyter-widgets/base",
            "_view_module_version": "1.2.0",
            "_view_name": "StyleView",
            "bar_color": null,
            "description_width": ""
          }
        },
        "b1bb2140c45b44af9d850c6d8ee7facf": {
          "model_module": "@jupyter-widgets/base",
          "model_name": "LayoutModel",
          "model_module_version": "1.2.0",
          "state": {
            "_model_module": "@jupyter-widgets/base",
            "_model_module_version": "1.2.0",
            "_model_name": "LayoutModel",
            "_view_count": null,
            "_view_module": "@jupyter-widgets/base",
            "_view_module_version": "1.2.0",
            "_view_name": "LayoutView",
            "align_content": null,
            "align_items": null,
            "align_self": null,
            "border": null,
            "bottom": null,
            "display": null,
            "flex": null,
            "flex_flow": null,
            "grid_area": null,
            "grid_auto_columns": null,
            "grid_auto_flow": null,
            "grid_auto_rows": null,
            "grid_column": null,
            "grid_gap": null,
            "grid_row": null,
            "grid_template_areas": null,
            "grid_template_columns": null,
            "grid_template_rows": null,
            "height": null,
            "justify_content": null,
            "justify_items": null,
            "left": null,
            "margin": null,
            "max_height": null,
            "max_width": null,
            "min_height": null,
            "min_width": null,
            "object_fit": null,
            "object_position": null,
            "order": null,
            "overflow": null,
            "overflow_x": null,
            "overflow_y": null,
            "padding": null,
            "right": null,
            "top": null,
            "visibility": null,
            "width": null
          }
        },
        "4a82942c0e954f2eb04cf21531c0890a": {
          "model_module": "@jupyter-widgets/controls",
          "model_name": "DescriptionStyleModel",
          "model_module_version": "1.5.0",
          "state": {
            "_model_module": "@jupyter-widgets/controls",
            "_model_module_version": "1.5.0",
            "_model_name": "DescriptionStyleModel",
            "_view_count": null,
            "_view_module": "@jupyter-widgets/base",
            "_view_module_version": "1.2.0",
            "_view_name": "StyleView",
            "description_width": ""
          }
        }
      }
    }
  },
  "nbformat": 4,
  "nbformat_minor": 0
}